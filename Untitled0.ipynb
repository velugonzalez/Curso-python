{
  "nbformat": 4,
  "nbformat_minor": 0,
  "metadata": {
    "colab": {
      "name": "Untitled0.ipynb",
      "provenance": [],
      "authorship_tag": "ABX9TyPM+SmSZyhfBlWTaiRmvbd6",
      "include_colab_link": true
    },
    "kernelspec": {
      "name": "python3",
      "display_name": "Python 3"
    },
    "language_info": {
      "name": "python"
    }
  },
  "cells": [
    {
      "cell_type": "markdown",
      "metadata": {
        "id": "view-in-github",
        "colab_type": "text"
      },
      "source": [
        "<a href=\"https://colab.research.google.com/github/velugonzalez/Curso-python/blob/main/Untitled0.ipynb\" target=\"_parent\"><img src=\"https://colab.research.google.com/assets/colab-badge.svg\" alt=\"Open In Colab\"/></a>"
      ]
    },
    {
      "cell_type": "code",
      "source": [
        "3 + 1"
      ],
      "metadata": {
        "colab": {
          "base_uri": "https://localhost:8080/"
        },
        "id": "sDHS0nNmAHdk",
        "outputId": "6e3161df-0b41-4947-9309-c643fe2a9a47"
      },
      "execution_count": 2,
      "outputs": [
        {
          "output_type": "execute_result",
          "data": {
            "text/plain": [
              "4"
            ]
          },
          "metadata": {},
          "execution_count": 2
        }
      ]
    },
    {
      "cell_type": "code",
      "source": [
        "3-5"
      ],
      "metadata": {
        "colab": {
          "base_uri": "https://localhost:8080/"
        },
        "id": "408ERyT5AOQS",
        "outputId": "fe28c1e0-a4dd-49e9-fca6-e0ffe9e941ed"
      },
      "execution_count": 3,
      "outputs": [
        {
          "output_type": "execute_result",
          "data": {
            "text/plain": [
              "-2"
            ]
          },
          "metadata": {},
          "execution_count": 3
        }
      ]
    },
    {
      "cell_type": "code",
      "source": [
        "# division con decimales\n",
        "4/3"
      ],
      "metadata": {
        "colab": {
          "base_uri": "https://localhost:8080/"
        },
        "id": "Wmz806kvATPe",
        "outputId": "cb544e60-db85-40a4-a6fe-17c767e1a183"
      },
      "execution_count": 4,
      "outputs": [
        {
          "output_type": "execute_result",
          "data": {
            "text/plain": [
              "1.3333333333333333"
            ]
          },
          "metadata": {},
          "execution_count": 4
        }
      ]
    },
    {
      "cell_type": "code",
      "source": [
        "#division con enteros\n",
        "4//3"
      ],
      "metadata": {
        "colab": {
          "base_uri": "https://localhost:8080/"
        },
        "id": "H7jWK_CfAUnG",
        "outputId": "3d49aac2-cd48-404f-aeac-ca3973801d76"
      },
      "execution_count": 5,
      "outputs": [
        {
          "output_type": "execute_result",
          "data": {
            "text/plain": [
              "1"
            ]
          },
          "metadata": {},
          "execution_count": 5
        }
      ]
    },
    {
      "cell_type": "code",
      "source": [
        "## exponenetes\n",
        "5**2"
      ],
      "metadata": {
        "colab": {
          "base_uri": "https://localhost:8080/"
        },
        "id": "qMm19HY9AVP6",
        "outputId": "a15d40ea-023b-48ed-93a3-cfb6377b900a"
      },
      "execution_count": 6,
      "outputs": [
        {
          "output_type": "execute_result",
          "data": {
            "text/plain": [
              "25"
            ]
          },
          "metadata": {},
          "execution_count": 6
        }
      ]
    },
    {
      "cell_type": "code",
      "source": [
        "print(\"hola 'como' estan\")\n"
      ],
      "metadata": {
        "colab": {
          "base_uri": "https://localhost:8080/"
        },
        "id": "McoD52lPArPW",
        "outputId": "98469a52-dba6-4513-d838-4e41311828c3"
      },
      "execution_count": 7,
      "outputs": [
        {
          "output_type": "stream",
          "name": "stdout",
          "text": [
            "hola 'como' estan\n"
          ]
        }
      ]
    },
    {
      "cell_type": "code",
      "source": [
        "print('hola'+'como'+'estan')"
      ],
      "metadata": {
        "colab": {
          "base_uri": "https://localhost:8080/"
        },
        "id": "PqVBfY4sA598",
        "outputId": "543c3453-dcff-4e99-b5fc-601c5190dcb7"
      },
      "execution_count": 8,
      "outputs": [
        {
          "output_type": "stream",
          "name": "stdout",
          "text": [
            "holacomoestan\n"
          ]
        }
      ]
    },
    {
      "cell_type": "code",
      "source": [
        "print(3*\"ja\")"
      ],
      "metadata": {
        "colab": {
          "base_uri": "https://localhost:8080/"
        },
        "id": "_3GzHmAoBEQL",
        "outputId": "9ae70899-3b1f-4543-f722-047ab1d69240"
      },
      "execution_count": 9,
      "outputs": [
        {
          "output_type": "stream",
          "name": "stdout",
          "text": [
            "jajaja\n"
          ]
        }
      ]
    },
    {
      "cell_type": "code",
      "source": [
        "#declarar variable solo con igual\n",
        "var1 = 2\n",
        "var2 = 4"
      ],
      "metadata": {
        "id": "aapY_aWQBMoR"
      },
      "execution_count": 10,
      "outputs": []
    },
    {
      "cell_type": "code",
      "source": [
        "print(var1 + var2)"
      ],
      "metadata": {
        "colab": {
          "base_uri": "https://localhost:8080/"
        },
        "id": "6jI5CDlCBWBe",
        "outputId": "9ed16509-16ea-4438-d95a-dfc72c0b28f3"
      },
      "execution_count": 11,
      "outputs": [
        {
          "output_type": "stream",
          "name": "stdout",
          "text": [
            "6\n"
          ]
        }
      ]
    },
    {
      "cell_type": "code",
      "source": [
        "resultado = var1 + var2\n",
        "print(\"el resultado es:\" + str(resultado))"
      ],
      "metadata": {
        "colab": {
          "base_uri": "https://localhost:8080/"
        },
        "id": "qs8jk-y7Bmyy",
        "outputId": "a787e536-11d6-4689-d83f-227ef3b80fb4"
      },
      "execution_count": 12,
      "outputs": [
        {
          "output_type": "stream",
          "name": "stdout",
          "text": [
            "el resultado es:6\n"
          ]
        }
      ]
    },
    {
      "cell_type": "code",
      "source": [
        "print('el resultado es:', resultado)"
      ],
      "metadata": {
        "colab": {
          "base_uri": "https://localhost:8080/"
        },
        "id": "72Um0SDvB26-",
        "outputId": "d33db64c-e5c9-4b85-83e5-9d30fb70722b"
      },
      "execution_count": 13,
      "outputs": [
        {
          "output_type": "stream",
          "name": "stdout",
          "text": [
            "el resultado es: 6\n"
          ]
        }
      ]
    },
    {
      "cell_type": "code",
      "source": [
        "print(f'el resultado es: {resultado}')"
      ],
      "metadata": {
        "colab": {
          "base_uri": "https://localhost:8080/"
        },
        "id": "pmH5W7QUDRx3",
        "outputId": "aaeab4b2-cde6-453a-99c7-eff1932dda07"
      },
      "execution_count": 14,
      "outputs": [
        {
          "output_type": "stream",
          "name": "stdout",
          "text": [
            "el resultado es: 6\n"
          ]
        }
      ]
    },
    {
      "cell_type": "code",
      "source": [
        "a= \"hola como estan?\""
      ],
      "metadata": {
        "id": "HmxmFb2YD1Ms"
      },
      "execution_count": 15,
      "outputs": []
    },
    {
      "cell_type": "code",
      "source": [
        "a[:5]"
      ],
      "metadata": {
        "colab": {
          "base_uri": "https://localhost:8080/",
          "height": 35
        },
        "id": "QyU83M38D59Y",
        "outputId": "19cacac9-38c5-4431-9ec1-3a17ae5300f8"
      },
      "execution_count": 16,
      "outputs": [
        {
          "output_type": "execute_result",
          "data": {
            "application/vnd.google.colaboratory.intrinsic+json": {
              "type": "string"
            },
            "text/plain": [
              "'hola '"
            ]
          },
          "metadata": {},
          "execution_count": 16
        }
      ]
    },
    {
      "cell_type": "code",
      "source": [
        "a[11]"
      ],
      "metadata": {
        "colab": {
          "base_uri": "https://localhost:8080/",
          "height": 35
        },
        "id": "nFxDFoGjECB8",
        "outputId": "3ef9c77e-9746-4a1a-d465-15b6e81b69f9"
      },
      "execution_count": 18,
      "outputs": [
        {
          "output_type": "execute_result",
          "data": {
            "application/vnd.google.colaboratory.intrinsic+json": {
              "type": "string"
            },
            "text/plain": [
              "'s'"
            ]
          },
          "metadata": {},
          "execution_count": 18
        }
      ]
    },
    {
      "cell_type": "code",
      "source": [
        "a[6:]"
      ],
      "metadata": {
        "colab": {
          "base_uri": "https://localhost:8080/",
          "height": 35
        },
        "id": "ZAeEEFGGEHsG",
        "outputId": "6ddb5a75-acf0-4419-c5a9-2af74605e57a"
      },
      "execution_count": 19,
      "outputs": [
        {
          "output_type": "execute_result",
          "data": {
            "application/vnd.google.colaboratory.intrinsic+json": {
              "type": "string"
            },
            "text/plain": [
              "'omo estan?'"
            ]
          },
          "metadata": {},
          "execution_count": 19
        }
      ]
    },
    {
      "cell_type": "code",
      "source": [
        "#lista = arreglo en R\n",
        "nums = [2, 3, 4, 5, 6, 7]"
      ],
      "metadata": {
        "id": "6O85WKRrEMPz"
      },
      "execution_count": 30,
      "outputs": []
    },
    {
      "cell_type": "code",
      "source": [
        "nums.append(45)"
      ],
      "metadata": {
        "id": "31wETOlJEXVt"
      },
      "execution_count": 32,
      "outputs": []
    },
    {
      "cell_type": "code",
      "source": [
        "nums"
      ],
      "metadata": {
        "colab": {
          "base_uri": "https://localhost:8080/"
        },
        "id": "_wse0LPLEuPq",
        "outputId": "6bba60ec-5d62-407e-84e5-649d3c15ed7b"
      },
      "execution_count": 33,
      "outputs": [
        {
          "output_type": "execute_result",
          "data": {
            "text/plain": [
              "[2, 3, 4, 5, 6, 7, 45]"
            ]
          },
          "metadata": {},
          "execution_count": 33
        }
      ]
    },
    {
      "cell_type": "code",
      "source": [
        "# cantidad de elementos\n",
        "len(nums)"
      ],
      "metadata": {
        "colab": {
          "base_uri": "https://localhost:8080/"
        },
        "id": "cwH4HcKUEwT4",
        "outputId": "6ea955f5-9ba8-4c7e-9f54-2c2e94901d03"
      },
      "execution_count": 24,
      "outputs": [
        {
          "output_type": "execute_result",
          "data": {
            "text/plain": [
              "7"
            ]
          },
          "metadata": {},
          "execution_count": 24
        }
      ]
    },
    {
      "cell_type": "code",
      "source": [
        "# no modifica la lista internamente - solo la ordena para la ocasion\n",
        "sorted(nums, reverse=True) "
      ],
      "metadata": {
        "colab": {
          "base_uri": "https://localhost:8080/"
        },
        "id": "oFAvAfpbGuwb",
        "outputId": "9667d83d-9db9-4979-dff5-bfa4684070f4"
      },
      "execution_count": 37,
      "outputs": [
        {
          "output_type": "execute_result",
          "data": {
            "text/plain": [
              "[45, 7, 6, 5, 4, 3, 2]"
            ]
          },
          "metadata": {},
          "execution_count": 37
        }
      ]
    },
    {
      "cell_type": "code",
      "source": [
        "# si a la variable se le agrega '.' + funcion como 'sort' modifica internamente la lista\n",
        "nums.sort(reverse=True) \n",
        "nums"
      ],
      "metadata": {
        "colab": {
          "base_uri": "https://localhost:8080/"
        },
        "id": "bicBRnEVG6QO",
        "outputId": "8804edaf-3d19-44dd-c6e0-043193dd0515"
      },
      "execution_count": 36,
      "outputs": [
        {
          "output_type": "execute_result",
          "data": {
            "text/plain": [
              "[45, 7, 6, 5, 4, 3, 2]"
            ]
          },
          "metadata": {},
          "execution_count": 36
        }
      ]
    },
    {
      "cell_type": "markdown",
      "source": [
        "**Ejemplo 1**"
      ],
      "metadata": {
        "id": "4Ohfj3poIkgs"
      }
    },
    {
      "cell_type": "code",
      "source": [
        "nombre = input('Ingrese el nombre del colaborador: ')\n",
        "horas = int(input('Ingrese las horas trabajadas: ')) #cambiamos a tipo numero\n",
        "pagoXhora = float(input('Ingrese el pago por hora: ')) #cambiamos a tipo float (decimales)\n",
        "salario = (horas*pagoXhora)\n",
        "print(\"El salario {} es: {}\".format(nombre, salario))"
      ],
      "metadata": {
        "colab": {
          "base_uri": "https://localhost:8080/"
        },
        "id": "bnhMB1iWH6jt",
        "outputId": "b192f31d-2a53-426a-ff11-ddbd086bd7d9"
      },
      "execution_count": 43,
      "outputs": [
        {
          "output_type": "stream",
          "name": "stdout",
          "text": [
            "Ingrese el nombre del colaborador: n\n",
            "Ingrese las horas trabajadas: 10\n",
            "Ingrese el pago por hora: 15\n",
            "El salario n es: 150.0\n"
          ]
        }
      ]
    },
    {
      "cell_type": "code",
      "source": [
        "# si hay un erro se crea una excepcion de la siguiente manera:\n",
        "#para absorver todos los errores se coloca en except \"except Exception as ex:\"\n",
        "try:\n",
        "  nombre = input('Ingrese el nombre del colaborador: ')\n",
        "  horas = int(input('Ingrese las horas trabajadas: ')) #cambiamos a tipo numero\n",
        "  pagoXhora = float(input('Ingrese el pago por hora: ')) #cambiamos a tipo float (decimales)\n",
        "  salario = (horas*pagoXhora)\n",
        "  print(\"El salario {} es: {}\".format(nombre, salario))\n",
        "except(ValueError):\n",
        "  print('Los datos no son validos.')"
      ],
      "metadata": {
        "colab": {
          "base_uri": "https://localhost:8080/"
        },
        "id": "sWkJS0buJj6o",
        "outputId": "73bfdf4c-83d5-4cf2-b40b-50a2d2637d27"
      },
      "execution_count": 46,
      "outputs": [
        {
          "output_type": "stream",
          "name": "stdout",
          "text": [
            "Ingrese el nombre del colaborador: n\n",
            "Ingrese las horas trabajadas: \n",
            "Los datos no son validos.\n"
          ]
        }
      ]
    },
    {
      "cell_type": "code",
      "source": [
        "try:\n",
        "  numero = float(input(\"ingrese un numero: \"))\n",
        "  if (numero < 0):\n",
        "    numero = -1*numero\n",
        "  print(\"El valor absoluto es: \" + str(numero))\n",
        "except(ValueError):\n",
        "  print(\"Los datos no son validos\")\n"
      ],
      "metadata": {
        "colab": {
          "base_uri": "https://localhost:8080/"
        },
        "id": "zwFiLZB8XYq6",
        "outputId": "ec0e8d86-8c0a-4e00-8b86-578a454d70bd"
      },
      "execution_count": 52,
      "outputs": [
        {
          "output_type": "stream",
          "name": "stdout",
          "text": [
            "ingrese un numero: 1\n",
            "El valor absoluto es: 1.0\n"
          ]
        }
      ]
    },
    {
      "cell_type": "code",
      "source": [
        "try:\n",
        "  numero = int(input(\"Ingrese un numero: \"))\n",
        "  if ((numero % 2) == 0):\n",
        "    print(f'El numero {numero} es par.')\n",
        "  else:\n",
        "    print(f\"El numero {numero} es impar.\")\n",
        "except(ValueError):\n",
        "  print('Los datos nos son validos.')"
      ],
      "metadata": {
        "colab": {
          "base_uri": "https://localhost:8080/"
        },
        "id": "RqJJdUuVYR43",
        "outputId": "658ffff3-dc03-4179-e460-24ed3d1fa379"
      },
      "execution_count": 53,
      "outputs": [
        {
          "output_type": "stream",
          "name": "stdout",
          "text": [
            "Ingrese un numero: 1\n",
            "El numero 1 es impar.\n"
          ]
        }
      ]
    },
    {
      "cell_type": "code",
      "source": [
        "#\"elif\" se utiliza como else if para agregar mas condiciones  \n",
        "try:\n",
        "  dia = int(input('Ingrese un numero: '))\n",
        "  if(dia == 1):\n",
        "    print('El dia es lunes')\n",
        "  elif(dia == 2):\n",
        "    print('El dia es martes')\n",
        "  elif(dia == 3):\n",
        "    print('El dia es miercoles')\n",
        "  elif(dia == 4):\n",
        "    print('El dia es jueves')\n",
        "  elif(dia == 5):\n",
        "    print('El dia es viernes')\n",
        "  elif(dia == 5):\n",
        "    print('El dia es viernes')\n",
        "  elif((dia >= 6) and (dia <= 7)):\n",
        "    print(\"Fin de semana\")\n",
        "  else:\n",
        "    print(\"No se reconoce el dia.\")\n",
        "except(ValueError):\n",
        "  print(\"Los datos no son validos.\")"
      ],
      "metadata": {
        "colab": {
          "base_uri": "https://localhost:8080/"
        },
        "id": "1enXgbDsZcA0",
        "outputId": "687493d8-216e-4e84-ebda-663b5f52af5c"
      },
      "execution_count": 57,
      "outputs": [
        {
          "output_type": "stream",
          "name": "stdout",
          "text": [
            "Ingrese un numero: 1\n",
            "El dia es lunes\n"
          ]
        }
      ]
    },
    {
      "cell_type": "markdown",
      "source": [
        "**Ciclo - while**"
      ],
      "metadata": {
        "id": "ih28HzmHclRz"
      }
    },
    {
      "cell_type": "code",
      "source": [
        "import random"
      ],
      "metadata": {
        "id": "4IJwQuOackVO"
      },
      "execution_count": null,
      "outputs": []
    },
    {
      "cell_type": "code",
      "source": [
        "ganador = random.randint(1, 5)\n",
        "\n",
        "while(numero != ganador):\n",
        "  try:\n",
        "    numero = int(input('Ingrese un numero: '))\n",
        "    print(\"Numero incorrecto, intente de nuevo\")\n",
        "  except(ValueError):\n",
        "    print(\"Dato invalido.\")\n",
        "print(\"Gano!!!\")\n"
      ],
      "metadata": {
        "colab": {
          "base_uri": "https://localhost:8080/"
        },
        "id": "Tru7LjUydCIC",
        "outputId": "89a38d9e-2bce-45fe-8064-eb8c3c0151d5"
      },
      "execution_count": 67,
      "outputs": [
        {
          "output_type": "stream",
          "name": "stdout",
          "text": [
            "Ingrese un numero: 1\n",
            "Numero incorrecto, intente de nuevo\n",
            "Ingrese un numero: 2\n",
            "Numero incorrecto, intente de nuevo\n",
            "Gano!!!\n"
          ]
        }
      ]
    },
    {
      "cell_type": "code",
      "source": [
        "datos = [3, 4, 5, 7, 10, 6]\n",
        "\n",
        "suma = 0\n",
        "for i in range(0, len(datos), 1):\n",
        "  suma = suma + datos[i]\n",
        "print(suma)"
      ],
      "metadata": {
        "colab": {
          "base_uri": "https://localhost:8080/"
        },
        "id": "TwJwAOQJfj8o",
        "outputId": "e739d6d0-77cf-4e78-8c08-52401f9690da"
      },
      "execution_count": 72,
      "outputs": [
        {
          "output_type": "stream",
          "name": "stdout",
          "text": [
            "35\n"
          ]
        }
      ]
    }
  ]
}